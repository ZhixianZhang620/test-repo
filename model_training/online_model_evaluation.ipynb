{
  "cells": [
    {
      "cell_type": "code",
      "execution_count": 1,
      "metadata": {
        "colab": {
          "base_uri": "https://localhost:8080/"
        },
        "id": "O7F85864S5QR",
        "outputId": "db4919c1-816b-40b2-b2ff-13935f20a9e9"
      },
      "outputs": [
        {
          "name": "stdout",
          "output_type": "stream",
          "text": [
            "Requirement already satisfied: pymongo in /Users/shilpysingh/anaconda3/envs/idlf24/lib/python3.8/site-packages (4.10.1)\n",
            "Requirement already satisfied: apscheduler in /Users/shilpysingh/anaconda3/envs/idlf24/lib/python3.8/site-packages (3.11.0)\n",
            "Requirement already satisfied: dnspython<3.0.0,>=1.16.0 in /Users/shilpysingh/anaconda3/envs/idlf24/lib/python3.8/site-packages (from pymongo) (2.6.1)\n",
            "Requirement already satisfied: tzlocal>=3.0 in /Users/shilpysingh/anaconda3/envs/idlf24/lib/python3.8/site-packages (from apscheduler) (5.2)\n",
            "Requirement already satisfied: backports.zoneinfo in /Users/shilpysingh/anaconda3/envs/idlf24/lib/python3.8/site-packages (from apscheduler) (0.2.1)\n"
            "Requirement already satisfied: pymongo in /usr/local/lib/python3.11/dist-packages (4.11.3)\n",
            "Requirement already satisfied: apscheduler in /usr/local/lib/python3.11/dist-packages (3.11.0)\n",
            "Requirement already satisfied: dnspython<3.0.0,>=1.16.0 in /usr/local/lib/python3.11/dist-packages (from pymongo) (2.7.0)\n",
            "Requirement already satisfied: tzlocal>=3.0 in /usr/local/lib/python3.11/dist-packages (from apscheduler) (5.3.1)\n"
          ]
        }
      ],
      "source": [
        "!pip install pymongo apscheduler\n"
      ]
    },
    {
      "cell_type": "code",
      "execution_count": 2,
      "metadata": {
        "id": "8DHapS3xVA1a"
      },
      "outputs": [],
      "source": [
        "from pymongo import MongoClient\n",
        "from datetime import datetime\n",
        "import time\n",
        "\n",
        "CONNECTION_STRING = \"\"\n",
        "client = MongoClient(CONNECTION_STRING)\n",
        "\n",
        "\n"
      ]
    },
    {
      "cell_type": "code",
      "execution_count": 3,
      "metadata": {
        "id": "lqrdIF8zKe4B"
      },
      "outputs": [],
      "source": [
        "log_db = client[\"log_database\"]\n",
        "movie_db = client[\"movie_database\"]\n",
        "user_db = client[\"user_database\"]\n",
        "\n",
        "recommendation_collection = log_db[\"recommendation_log\"]\n",
        "watch_time_collection = movie_db[\"user_watch_data\"]\n"
      ]
    },
    {
      "cell_type": "code",
      "execution_count": 4,
      "metadata": {
        "colab": {
          "base_uri": "https://localhost:8080/"
        },
        "id": "TLMDed9SKjyO",
        "outputId": "20cd0736-5543-47eb-f1f7-1390840b0f13"
      },
      "outputs": [
        {
          "name": "stdout",
          "output_type": "stream",
          "text": [
            "['recommendation_log']\n"
          ]
        }
      ],
      "source": [
        "print(log_db.list_collection_names())"
      ]
    },
    {
      "cell_type": "code",
      "execution_count": 5,
      "metadata": {
        "id": "j4-XLtWeMtdm"
      },
      "outputs": [],
      "source": [
        "def extract_watch_duration(minute_mpg):\n",
        "    \"\"\"\n",
        "    Extracts numeric watch duration in seconds from 'minute_mpg' field.\n",
        "    \"\"\"\n",
        "    try:\n",
        "        minutes = int(minute_mpg.split(\".\")[0])  # Extract minutes (before \".mpg\")\n",
        "        return minutes * 60  # Convert to seconds\n",
        "    except:\n",
        "        return 0  # Default to 0 if parsing fails\n"
      ]
    },
    {
      "cell_type": "code",
      "execution_count": 6,
      "metadata": {
        "colab": {
          "base_uri": "https://localhost:8080/"
        },
        "id": "dn6sHJ63VGVL",
        "outputId": "a9c7d4c7-5085-416f-d217-22dbefe0a5ef"
      },
      "outputs": [
        {
          "name": "stdout",
          "output_type": "stream",
          "text": [
            " Average Watch Time AFTER Recommendation: 951.78 seconds\n"
          ]
        },
        {
          "data": {
            "text/plain": [
              "951.777594047127"
            ]
          },
          "execution_count": 6,
          "metadata": {},
          "output_type": "execute_result"
        }
      ],
      "source": [
        "\n",
        "def compute_avg_watch_time():\n",
        "    \"\"\"\n",
        "    Computes average watch time for movies watched AFTER the recommendation.\n",
        "    \n",
        "    \"\"\"\n",
        "    total_watch_time = 0\n",
        "    total_users = 0\n",
        "\n",
        "    # Process only a limited number of recommendations (e.g., 1000)\n",
        "    recommendation_logs = recommendation_collection.find().limit(1000)\n",
        "\n",
        "    for rec in recommendation_logs:\n",
        "        user_id = rec.get(\"user_id\")\n",
        "        recommended_movies = rec.get(\"recommendation_results\", [])\n",
        "\n",
        "        # Convert timestamp correctly\n",
        "        rec_timestamp = rec.get(\"time\")\n",
        "        if isinstance(rec_timestamp, str):  # Convert if it's a string\n",
        "            try:\n",
        "                rec_timestamp = datetime.fromisoformat(rec_timestamp.replace(\"Z\", \"+00:00\"))\n",
        "            except ValueError:\n",
        "                continue  # Skip records with invalid timestamps\n",
        "\n",
        "        # Query watch logs for this user AFTER recommendation\n",
        "        watch_logs = list(watch_time_collection.find(\n",
        "            {\n",
        "                \"user_id\": user_id,\n",
        "                \"movie_id\": {\"$in\": recommended_movies},\n",
        "                \"time\": {\"$gte\": rec_timestamp}  # Watch time after recommendation\n",
        "            },\n",
        "            {\"minute_mpg\": 1}  # Fetch only required field\n",
        "        ))\n",
        "\n",
        "        for watch in watch_logs:\n",
        "            watch_duration = extract_watch_duration(watch[\"minute_mpg\"])\n",
        "            total_watch_time += watch_duration\n",
        "            total_users += 1\n",
        "\n",
        "    # Compute final average\n",
        "    avg_watch_time = total_watch_time / total_users if total_users > 0 else 0\n",
        "    print(f\" Average Watch Time AFTER Recommendation: {avg_watch_time:.2f} seconds\")\n",
        "    return avg_watch_time\n",
        "\n",
        "compute_avg_watch_time()\n"
      ]
    },
    {
      "cell_type": "code",
      "metadata": {
        "colab": {
          "base_uri": "https://localhost:8080/"
        },
        "id": "QzeXL6PJVJ2-",
        "outputId": "fbfcc90d-86bc-428b-b375-0e9f928f984a"
      },
      "outputs": [
        {
          "name": "stdout",
          "output_type": "stream",
          "text": [
          ]
        },
        {
          "data": {
            "text/plain": [
              "0.03242430749409491"
            ]
          },
          "execution_count": 7,
          "metadata": {},
          "output_type": "execute_result"
        }
      ],
      "source": [
        "def compute_watch_time_conversion_rate():\n",
        "    \"\"\"\n",
        "    Computes the percentage of users who watched a recommended movie AFTER receiving the recommendation.\n",
        "    \"\"\"\n",
        "    total_recommendations = recommendation_collection.count_documents({})\n",
        "    users_who_watched = set()\n",
        "\n",
        "    for rec in recommendation_collection.find().limit(1000):  # Add limit to avoid infinite loops\n",
        "        user_id = rec.get(\"user_id\")\n",
        "        recommended_movies = rec.get(\"recommendation_results\", [])\n",
        "        rec_timestamp = rec.get(\"time\")\n",
        "\n",
        "        # Handle time format conversion\n",
        "        if isinstance(rec_timestamp, str):\n",
        "            try:\n",
        "                rec_timestamp = datetime.fromisoformat(rec_timestamp.replace(\"Z\", \"+00:00\"))\n",
        "            except Exception as e:\n",
        "                print(f\"Skipping user {user_id} due to invalid time format: {e}\")\n",
        "                continue\n",
        "\n",
        "        # Query for watch logs after the recommendation\n",
        "        watch_logs_cursor = watch_time_collection.find({\n",
        "            \"user_id\": user_id,\n",
        "            \"movie_id\": {\"$in\": recommended_movies},\n",
        "            \"time\": {\"$gte\": rec_timestamp}\n",
        "        })\n",
        "\n",
        "        # Convert to list to count results\n",
        "        watch_logs = list(watch_logs_cursor)\n",
        "\n",
        "        if len(watch_logs) > 0:\n",
        "            users_who_watched.add(user_id)\n",
        "\n",
        "    conversion_rate = len(users_who_watched) / total_recommendations if total_recommendations > 0 else 0\n",
        "    print(f\"Watch Time Conversion Rate AFTER Recommendation: {conversion_rate:.2%}\")\n",
        "    return conversion_rate\n",
        "\n",
      ]
    },
    {
      "cell_type": "code",
      "metadata": {
        "id": "k8-lgePBVO_a"
      },
      "outputs": [],
      "source": [
        "from apscheduler.schedulers.background import BackgroundScheduler\n",
        "\n",
        "scheduler = BackgroundScheduler()\n",
        "\n",
        "scheduler.add_job(compute_avg_watch_time, 'interval', hours=1)\n",
        "scheduler.add_job(compute_watch_time_conversion_rate, 'interval', hours=1)\n",
        "\n",
        "scheduler.start()\n"
      ]
    }
  ],
  "metadata": {
    "colab": {
      "provenance": []
    },
    "kernelspec": {
      "display_name": "Python 3",
      "name": "python3"
    },
    "language_info": {
      "codemirror_mode": {
        "name": "ipython",
        "version": 3
      },
      "file_extension": ".py",
      "mimetype": "text/x-python",
      "name": "python",
      "nbconvert_exporter": "python",
      "pygments_lexer": "ipython3",
      "version": "3.8.19"
    }
  },
  "nbformat": 4,
  "nbformat_minor": 0
}
